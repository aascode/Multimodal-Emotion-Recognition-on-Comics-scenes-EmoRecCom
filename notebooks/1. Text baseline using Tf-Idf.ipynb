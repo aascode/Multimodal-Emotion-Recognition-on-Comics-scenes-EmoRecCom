{
 "cells": [
  {
   "cell_type": "code",
   "execution_count": 1,
   "metadata": {},
   "outputs": [],
   "source": [
    "import pandas as pd\n",
    "import numpy as np\n",
    "import json\n",
    "import nltk\n",
    "import re\n",
    "import csv\n",
    "import matplotlib.pyplot as plt \n",
    "import seaborn as sns\n",
    "from tqdm import tqdm\n",
    "from sklearn.feature_extraction.text import TfidfVectorizer\n",
    "from sklearn.model_selection import train_test_split\n",
    "\n",
    "from nltk.corpus import stopwords\n",
    "from nltk.stem import WordNetLemmatizer \n",
    "from nltk.tokenize import word_tokenize \n",
    "\n",
    "%matplotlib inline\n",
    "pd.set_option('display.max_colwidth', 300)"
   ]
  },
  {
   "cell_type": "code",
   "execution_count": 2,
   "metadata": {},
   "outputs": [],
   "source": [
    "train = pd.read_csv('../data/public_train/train_data.csv')"
   ]
  },
  {
   "cell_type": "code",
   "execution_count": 3,
   "metadata": {},
   "outputs": [
    {
     "data": {
      "text/html": [
       "<div>\n",
       "<style scoped>\n",
       "    .dataframe tbody tr th:only-of-type {\n",
       "        vertical-align: middle;\n",
       "    }\n",
       "\n",
       "    .dataframe tbody tr th {\n",
       "        vertical-align: top;\n",
       "    }\n",
       "\n",
       "    .dataframe thead th {\n",
       "        text-align: right;\n",
       "    }\n",
       "</style>\n",
       "<table border=\"1\" class=\"dataframe\">\n",
       "  <thead>\n",
       "    <tr style=\"text-align: right;\">\n",
       "      <th></th>\n",
       "      <th>id</th>\n",
       "      <th>image_id</th>\n",
       "      <th>Angry</th>\n",
       "      <th>Disgust</th>\n",
       "      <th>Fear</th>\n",
       "      <th>Happy</th>\n",
       "      <th>Sad</th>\n",
       "      <th>Surprise</th>\n",
       "      <th>Neutral</th>\n",
       "      <th>Others</th>\n",
       "      <th>dialog</th>\n",
       "      <th>narration</th>\n",
       "      <th>text</th>\n",
       "      <th>text_clean</th>\n",
       "      <th>emotion_list</th>\n",
       "    </tr>\n",
       "  </thead>\n",
       "  <tbody>\n",
       "    <tr>\n",
       "      <th>0</th>\n",
       "      <td>575.0</td>\n",
       "      <td>1308_48_2</td>\n",
       "      <td>1</td>\n",
       "      <td>0</td>\n",
       "      <td>0</td>\n",
       "      <td>1</td>\n",
       "      <td>0</td>\n",
       "      <td>0</td>\n",
       "      <td>0</td>\n",
       "      <td>0</td>\n",
       "      <td>['wait a minute im not going to hurt you !']</td>\n",
       "      <td>[]</td>\n",
       "      <td>['wait a minute im not going to hurt you !']</td>\n",
       "      <td>['wait a minute i am not going to hurt you   !']</td>\n",
       "      <td>['Angry', 'Happy']</td>\n",
       "    </tr>\n",
       "    <tr>\n",
       "      <th>1</th>\n",
       "      <td>5395.0</td>\n",
       "      <td>3766_29_2</td>\n",
       "      <td>0</td>\n",
       "      <td>1</td>\n",
       "      <td>0</td>\n",
       "      <td>1</td>\n",
       "      <td>0</td>\n",
       "      <td>0</td>\n",
       "      <td>1</td>\n",
       "      <td>0</td>\n",
       "      <td>[' hear that trody ? they meed a nsw carew maan , looks like were / n rusk . come on .']</td>\n",
       "      <td>[]</td>\n",
       "      <td>[' hear that trody ? they meed a nsw carew maan , looks like were / n rusk . come on .']</td>\n",
       "      <td>['he thought they need a new careman , looks like we/n rush   .com on   .']</td>\n",
       "      <td>['Disgust', 'Happy', 'Neutral']</td>\n",
       "    </tr>\n",
       "    <tr>\n",
       "      <th>2</th>\n",
       "      <td>2004.0</td>\n",
       "      <td>2112_17_7</td>\n",
       "      <td>1</td>\n",
       "      <td>1</td>\n",
       "      <td>0</td>\n",
       "      <td>0</td>\n",
       "      <td>0</td>\n",
       "      <td>0</td>\n",
       "      <td>0</td>\n",
       "      <td>0</td>\n",
       "      <td>['the comet leaps into action his bouyancy allows him to bounce around the office like a rubber ball', ' well , i moved ']</td>\n",
       "      <td>['the comet leaps into action his bouyancy allows him to bounce around the office like a rubber ball']</td>\n",
       "      <td>['the comet leaps into action his bouyancy allows him to bounce around the office like a rubber ball', ' well , i moved ', 'the comet leaps into action his bouyancy allows him to bounce around the office like a rubber ball']</td>\n",
       "      <td>['the comet leaps into action , his bouyancy allows him to bounce around the office like a rubber ball   .', 'well , i moved   .', 'the comet leaps into action , his bouyancy allows him to bounce around the office like a rubber ball   .']</td>\n",
       "      <td>['Angry', 'Disgust']</td>\n",
       "    </tr>\n",
       "    <tr>\n",
       "      <th>3</th>\n",
       "      <td>4863.0</td>\n",
       "      <td>3458_16_7</td>\n",
       "      <td>0</td>\n",
       "      <td>0</td>\n",
       "      <td>0</td>\n",
       "      <td>0</td>\n",
       "      <td>0</td>\n",
       "      <td>0</td>\n",
       "      <td>1</td>\n",
       "      <td>0</td>\n",
       "      <td>['its in there . isnt mate ?', \"yeah - t ' s in there .\"]</td>\n",
       "      <td>[]</td>\n",
       "      <td>['its in there . isnt mate ?', \"yeah - t ' s in there .\"]</td>\n",
       "      <td>['is it there   .is not mate?', 'yeah t is in there   .']</td>\n",
       "      <td>['Neutral']</td>\n",
       "    </tr>\n",
       "    <tr>\n",
       "      <th>4</th>\n",
       "      <td>5146.0</td>\n",
       "      <td>2338_19_3</td>\n",
       "      <td>0</td>\n",
       "      <td>0</td>\n",
       "      <td>1</td>\n",
       "      <td>0</td>\n",
       "      <td>0</td>\n",
       "      <td>1</td>\n",
       "      <td>1</td>\n",
       "      <td>0</td>\n",
       "      <td>['listen und pass der yord along . bzzzz21', 'vot ?']</td>\n",
       "      <td>[]</td>\n",
       "      <td>['listen und pass der yord along . bzzzz21', 'vot ?']</td>\n",
       "      <td>['listen and pass your way   . bzzzz21   .', 'vot?']</td>\n",
       "      <td>['Fear', 'Surprise', 'Neutral']</td>\n",
       "    </tr>\n",
       "  </tbody>\n",
       "</table>\n",
       "</div>"
      ],
      "text/plain": [
       "       id   image_id  Angry  Disgust  Fear  Happy  Sad  Surprise  Neutral  \\\n",
       "0   575.0  1308_48_2      1        0     0      1    0         0        0   \n",
       "1  5395.0  3766_29_2      0        1     0      1    0         0        1   \n",
       "2  2004.0  2112_17_7      1        1     0      0    0         0        0   \n",
       "3  4863.0  3458_16_7      0        0     0      0    0         0        1   \n",
       "4  5146.0  2338_19_3      0        0     1      0    0         1        1   \n",
       "\n",
       "   Others  \\\n",
       "0       0   \n",
       "1       0   \n",
       "2       0   \n",
       "3       0   \n",
       "4       0   \n",
       "\n",
       "                                                                                                                       dialog  \\\n",
       "0                                                                                ['wait a minute im not going to hurt you !']   \n",
       "1                                    [' hear that trody ? they meed a nsw carew maan , looks like were / n rusk . come on .']   \n",
       "2  ['the comet leaps into action his bouyancy allows him to bounce around the office like a rubber ball', ' well , i moved ']   \n",
       "3                                                                   ['its in there . isnt mate ?', \"yeah - t ' s in there .\"]   \n",
       "4                                                                       ['listen und pass der yord along . bzzzz21', 'vot ?']   \n",
       "\n",
       "                                                                                                narration  \\\n",
       "0                                                                                                      []   \n",
       "1                                                                                                      []   \n",
       "2  ['the comet leaps into action his bouyancy allows him to bounce around the office like a rubber ball']   \n",
       "3                                                                                                      []   \n",
       "4                                                                                                      []   \n",
       "\n",
       "                                                                                                                                                                                                                               text  \\\n",
       "0                                                                                                                                                                                      ['wait a minute im not going to hurt you !']   \n",
       "1                                                                                                                                          [' hear that trody ? they meed a nsw carew maan , looks like were / n rusk . come on .']   \n",
       "2  ['the comet leaps into action his bouyancy allows him to bounce around the office like a rubber ball', ' well , i moved ', 'the comet leaps into action his bouyancy allows him to bounce around the office like a rubber ball']   \n",
       "3                                                                                                                                                                         ['its in there . isnt mate ?', \"yeah - t ' s in there .\"]   \n",
       "4                                                                                                                                                                             ['listen und pass der yord along . bzzzz21', 'vot ?']   \n",
       "\n",
       "                                                                                                                                                                                                                                       text_clean  \\\n",
       "0                                                                                                                                                                                                ['wait a minute i am not going to hurt you   !']   \n",
       "1                                                                                                                                                                     ['he thought they need a new careman , looks like we/n rush   .com on   .']   \n",
       "2  ['the comet leaps into action , his bouyancy allows him to bounce around the office like a rubber ball   .', 'well , i moved   .', 'the comet leaps into action , his bouyancy allows him to bounce around the office like a rubber ball   .']   \n",
       "3                                                                                                                                                                                       ['is it there   .is not mate?', 'yeah t is in there   .']   \n",
       "4                                                                                                                                                                                            ['listen and pass your way   . bzzzz21   .', 'vot?']   \n",
       "\n",
       "                      emotion_list  \n",
       "0               ['Angry', 'Happy']  \n",
       "1  ['Disgust', 'Happy', 'Neutral']  \n",
       "2             ['Angry', 'Disgust']  \n",
       "3                      ['Neutral']  \n",
       "4  ['Fear', 'Surprise', 'Neutral']  "
      ]
     },
     "execution_count": 3,
     "metadata": {},
     "output_type": "execute_result"
    }
   ],
   "source": [
    "train.head()"
   ]
  },
  {
   "cell_type": "code",
   "execution_count": 4,
   "metadata": {},
   "outputs": [
    {
     "data": {
      "text/plain": [
       "4365"
      ]
     },
     "execution_count": 4,
     "metadata": {},
     "output_type": "execute_result"
    }
   ],
   "source": [
    "len(train)"
   ]
  },
  {
   "cell_type": "code",
   "execution_count": 5,
   "metadata": {},
   "outputs": [
    {
     "data": {
      "text/plain": [
       "4365"
      ]
     },
     "execution_count": 5,
     "metadata": {},
     "output_type": "execute_result"
    }
   ],
   "source": [
    "train.id.nunique()"
   ]
  },
  {
   "cell_type": "code",
   "execution_count": 6,
   "metadata": {},
   "outputs": [
    {
     "data": {
      "text/plain": [
       "4365"
      ]
     },
     "execution_count": 6,
     "metadata": {},
     "output_type": "execute_result"
    }
   ],
   "source": [
    "train.image_id.nunique()"
   ]
  },
  {
   "cell_type": "code",
   "execution_count": 7,
   "metadata": {},
   "outputs": [],
   "source": [
    "train = train[['image_id','text_clean','emotion_list']]"
   ]
  },
  {
   "cell_type": "code",
   "execution_count": 8,
   "metadata": {},
   "outputs": [],
   "source": [
    "lemmatizer = WordNetLemmatizer()\n",
    "stop = stopwords.words('english')"
   ]
  },
  {
   "cell_type": "code",
   "execution_count": 9,
   "metadata": {},
   "outputs": [
    {
     "name": "stdout",
     "output_type": "stream",
     "text": [
      "       word  count\n",
      "17        ,   4618\n",
      "36      the   3738\n",
      "24      .']   2869\n",
      "58        .   2583\n",
      "40      .',   2320\n",
      "...     ...    ...\n",
      "28     into    131\n",
      "509    over    130\n",
      "432   those    127\n",
      "1180    she    126\n",
      "238   could    125\n",
      "\n",
      "[100 rows x 2 columns]\n"
     ]
    },
    {
     "data": {
      "image/png": "[encoded data removed]",
      "text/plain": [
       "<Figure size 864x1080 with 1 Axes>"
      ]
     },
     "metadata": {
      "needs_background": "light"
     },
     "output_type": "display_data"
    }
   ],
   "source": [
    "def freq_words(x, terms = 30): \n",
    "  all_words = ' '.join([text for text in x]) \n",
    "  all_words = all_words.split() \n",
    "  fdist = nltk.FreqDist(all_words) \n",
    "  words_df = pd.DataFrame({'word':list(fdist.keys()), 'count':list(fdist.values())}) \n",
    "  \n",
    "  # selecting top 20 most frequent words \n",
    "  d = words_df.nlargest(columns=\"count\", n = terms) \n",
    "  print(d)\n",
    "  # visualize words and frequencies\n",
    "  plt.figure(figsize=(12,15)) \n",
    "  ax = sns.barplot(data=d, x= \"count\", y = \"word\") \n",
    "  ax.set(ylabel = 'Word') \n",
    "  plt.show()\n",
    "  \n",
    "# print 100 most frequent words \n",
    "freq_words(train['text_clean'], 100)"
   ]
  },
  {
   "cell_type": "code",
   "execution_count": 10,
   "metadata": {},
   "outputs": [],
   "source": [
    "import ast"
   ]
  },
  {
   "cell_type": "code",
   "execution_count": 11,
   "metadata": {},
   "outputs": [],
   "source": [
    "train['emotion_list'] = train['emotion_list'].apply(lambda x: ast.literal_eval(x))"
   ]
  },
  {
   "cell_type": "code",
   "execution_count": 12,
   "metadata": {},
   "outputs": [],
   "source": [
    "from sklearn.preprocessing import MultiLabelBinarizer\n",
    "\n",
    "multilabel_binarizer = MultiLabelBinarizer()\n",
    "multilabel_binarizer.fit(train['emotion_list'])\n",
    "\n",
    "# transform target variable\n",
    "y = multilabel_binarizer.transform(train['emotion_list'])"
   ]
  },
  {
   "cell_type": "code",
   "execution_count": 13,
   "metadata": {},
   "outputs": [],
   "source": [
    "tfidf_vectorizer = TfidfVectorizer(max_df=0.8, max_features=1000)"
   ]
  },
  {
   "cell_type": "code",
   "execution_count": 14,
   "metadata": {},
   "outputs": [],
   "source": [
    "xtrain, xval, ytrain, yval = train_test_split(train['text_clean'], y, test_size=0.2, random_state=9)"
   ]
  },
  {
   "cell_type": "code",
   "execution_count": 15,
   "metadata": {},
   "outputs": [],
   "source": [
    "# create TF-IDF features\n",
    "xtrain_tfidf = tfidf_vectorizer.fit_transform(xtrain)\n",
    "xval_tfidf = tfidf_vectorizer.transform(xval)"
   ]
  },
  {
   "cell_type": "code",
   "execution_count": 16,
   "metadata": {},
   "outputs": [],
   "source": [
    "from sklearn.linear_model import LogisticRegression\n",
    "\n",
    "# Binary Relevance\n",
    "from sklearn.multiclass import OneVsRestClassifier\n",
    "\n",
    "# Performance metric\n",
    "from sklearn.metrics import f1_score, roc_auc_score"
   ]
  },
  {
   "cell_type": "code",
   "execution_count": 17,
   "metadata": {},
   "outputs": [],
   "source": [
    "LogisticRegression?"
   ]
  },
  {
   "cell_type": "code",
   "execution_count": 18,
   "metadata": {},
   "outputs": [],
   "source": [
    "lr = LogisticRegression()\n",
    "clf = OneVsRestClassifier(lr)"
   ]
  },
  {
   "cell_type": "code",
   "execution_count": 19,
   "metadata": {},
   "outputs": [
    {
     "name": "stderr",
     "output_type": "stream",
     "text": [
      "/home/shwetkm/anaconda3/envs/fastai/lib/python3.6/site-packages/sklearn/linear_model/logistic.py:432: FutureWarning: Default solver will be changed to 'lbfgs' in 0.22. Specify a solver to silence this warning.\n",
      "  FutureWarning)\n"
     ]
    },
    {
     "data": {
      "text/plain": [
       "OneVsRestClassifier(estimator=LogisticRegression(C=1.0, class_weight=None,\n",
       "                                                 dual=False, fit_intercept=True,\n",
       "                                                 intercept_scaling=1,\n",
       "                                                 l1_ratio=None, max_iter=100,\n",
       "                                                 multi_class='warn',\n",
       "                                                 n_jobs=None, penalty='l2',\n",
       "                                                 random_state=None,\n",
       "                                                 solver='warn', tol=0.0001,\n",
       "                                                 verbose=0, warm_start=False),\n",
       "                    n_jobs=None)"
      ]
     },
     "execution_count": 19,
     "metadata": {},
     "output_type": "execute_result"
    }
   ],
   "source": [
    "# fit model on train data\n",
    "clf.fit(xtrain_tfidf, ytrain)"
   ]
  },
  {
   "cell_type": "code",
   "execution_count": 20,
   "metadata": {},
   "outputs": [],
   "source": [
    "# make predictions for validation set\n",
    "y_pred = clf.predict(xval_tfidf)"
   ]
  },
  {
   "cell_type": "code",
   "execution_count": 21,
   "metadata": {},
   "outputs": [
    {
     "data": {
      "text/plain": [
       "array([0, 0, 0, 1, 1, 0, 0, 0])"
      ]
     },
     "execution_count": 21,
     "metadata": {},
     "output_type": "execute_result"
    }
   ],
   "source": [
    "y_pred[3]"
   ]
  },
  {
   "cell_type": "code",
   "execution_count": 22,
   "metadata": {},
   "outputs": [
    {
     "data": {
      "text/plain": [
       "('Happy', 'Neutral')"
      ]
     },
     "execution_count": 22,
     "metadata": {},
     "output_type": "execute_result"
    }
   ],
   "source": [
    "multilabel_binarizer.inverse_transform(y_pred)[3]"
   ]
  },
  {
   "cell_type": "code",
   "execution_count": 23,
   "metadata": {},
   "outputs": [
    {
     "name": "stderr",
     "output_type": "stream",
     "text": [
      "/home/shwetkm/anaconda3/envs/fastai/lib/python3.6/site-packages/sklearn/metrics/classification.py:1437: UndefinedMetricWarning: F-score is ill-defined and being set to 0.0 in labels with no predicted samples.\n",
      "  'precision', 'predicted', average, warn_for)\n"
     ]
    },
    {
     "data": {
      "text/plain": [
       "0.2774291728674037"
      ]
     },
     "execution_count": 23,
     "metadata": {},
     "output_type": "execute_result"
    }
   ],
   "source": [
    "# evaluate performance\n",
    "f1_score(yval, y_pred, average=\"macro\")"
   ]
  },
  {
   "cell_type": "code",
   "execution_count": 24,
   "metadata": {},
   "outputs": [
    {
     "data": {
      "text/plain": [
       "0.6058517762098331"
      ]
     },
     "execution_count": 24,
     "metadata": {},
     "output_type": "execute_result"
    }
   ],
   "source": [
    "roc_auc_score(ytrain, clf.predict(xtrain_tfidf), average=\"macro\")"
   ]
  },
  {
   "cell_type": "code",
   "execution_count": 25,
   "metadata": {},
   "outputs": [
    {
     "data": {
      "text/plain": [
       "0.528448275328883"
      ]
     },
     "execution_count": 25,
     "metadata": {},
     "output_type": "execute_result"
    }
   ],
   "source": [
    "# evaluate performance\n",
    "roc_auc_score(yval, y_pred, average=\"macro\")"
   ]
  },
  {
   "cell_type": "code",
   "execution_count": 52,
   "metadata": {},
   "outputs": [],
   "source": [
    "def infer_tags(q):\n",
    "#     q = clean_text(q)\n",
    "#     q = remove_stopwords(q)\n",
    "    q_vec = tfidf_vectorizer.transform([q])\n",
    "    q_pred = clf.predict(q_vec)\n",
    "    return multilabel_binarizer.inverse_transform(q_pred)"
   ]
  },
  {
   "cell_type": "code",
   "execution_count": 54,
   "metadata": {},
   "outputs": [],
   "source": [
    "def infer_proba(q):\n",
    "#     q = clean_text(q)\n",
    "#     q = remove_stopwords(q)\n",
    "    q_vec = tfidf_vectorizer.transform([q])\n",
    "#     q_pred = clf.predict(q_vec)\n",
    "    proba = clf.predict_proba(q_vec)\n",
    "    return proba"
   ]
  },
  {
   "cell_type": "code",
   "execution_count": 53,
   "metadata": {},
   "outputs": [
    {
     "name": "stdout",
     "output_type": "stream",
     "text": [
      "[[0.29940578 0.57944372 0.22583595 0.34956376 0.8000717  0.09712847\n",
      "  0.19873859 0.30580167]]\n",
      "Movie:  ['and besides , it ai not nice to go your nose in other people is business now beat it   .', 'guess i had not thought of it that way   .   . please excuse me   .'] \n",
      "Predicted genre:  [('Disgust', 'Neutral')]\n",
      "Actual genre:  ['Fear', 'Neutral'] \n",
      "\n",
      "[[0.33972112 0.27501626 0.32605651 0.31393306 0.72905404 0.08339612\n",
      "  0.13642514 0.56718504]]\n",
      "Movie:  ['give the motor the gun   . if we have to drag it a couple of hours , we should get started   .'] \n",
      "Predicted genre:  [('Neutral', 'Surprise')]\n",
      "Actual genre:  ['Angry', 'Sad', 'Surprise', 'Neutral'] \n",
      "\n",
      "[[0.55026599 0.33355744 0.24439803 0.52080459 0.64585109 0.04552795\n",
      "  0.1548912  0.33299019]]\n",
      "Movie:  ['explain / to see for yourself   . ll use taye proctor ,', 'and i wouldr my own call , but go ahead doc 7 / 7 so very myself   .'] \n",
      "Predicted genre:  [('Angry', 'Happy', 'Neutral')]\n",
      "Actual genre:  ['Angry', 'Disgust', 'Happy', 'Neutral'] \n",
      "\n",
      "[[0.28391703 0.27657552 0.26980313 0.44882427 0.68559074 0.05186704\n",
      "  0.07911695 0.43107083]]\n",
      "Movie:  ['lads , dropped in for a little surprise   .'] \n",
      "Predicted genre:  [('Neutral',)]\n",
      "Actual genre:  ['Disgust', 'Happy', 'Sad', 'Surprise'] \n",
      "\n",
      "[[0.34784823 0.33722507 0.34819343 0.27841309 0.75427128 0.05252578\n",
      "  0.07387152 0.4552075 ]]\n",
      "Movie:  ['hey   . a rich fat lobster   .', 'kulik is flagship boldly grinds down menacingly above the merchantaman   .   .   .   .'] \n",
      "Predicted genre:  [('Neutral',)]\n",
      "Actual genre:  ['Disgust', 'Neutral'] \n",
      "\n"
     ]
    }
   ],
   "source": [
    "for i in range(5): \n",
    "  k = xval.sample(1).index[0] \n",
    "  print(\"Text: \", train['text_clean'][k], \"\\nPredicted genre: \", infer_tags(xval[k])), print(\"Actual genre: \",train['emotion_list'][k], \"\\n\")\n"
   ]
  },
  {
   "cell_type": "markdown",
   "metadata": {},
   "source": [
    "## Final test data"
   ]
  },
  {
   "cell_type": "code",
   "execution_count": 28,
   "metadata": {},
   "outputs": [],
   "source": [
    "test = pd.read_csv('../data/public_train/test_data.csv')"
   ]
  },
  {
   "cell_type": "code",
   "execution_count": 29,
   "metadata": {},
   "outputs": [
    {
     "data": {
      "text/html": [
       "<div>\n",
       "<style scoped>\n",
       "    .dataframe tbody tr th:only-of-type {\n",
       "        vertical-align: middle;\n",
       "    }\n",
       "\n",
       "    .dataframe tbody tr th {\n",
       "        vertical-align: top;\n",
       "    }\n",
       "\n",
       "    .dataframe thead th {\n",
       "        text-align: right;\n",
       "    }\n",
       "</style>\n",
       "<table border=\"1\" class=\"dataframe\">\n",
       "  <thead>\n",
       "    <tr style=\"text-align: right;\">\n",
       "      <th></th>\n",
       "      <th>id</th>\n",
       "      <th>image_id</th>\n",
       "      <th>Angry</th>\n",
       "      <th>Disgust</th>\n",
       "      <th>Fear</th>\n",
       "      <th>Happy</th>\n",
       "      <th>Sad</th>\n",
       "      <th>Surprise</th>\n",
       "      <th>Neutral</th>\n",
       "      <th>Others</th>\n",
       "      <th>dialog</th>\n",
       "      <th>narration</th>\n",
       "      <th>text</th>\n",
       "      <th>text_clean</th>\n",
       "      <th>emotion_list</th>\n",
       "    </tr>\n",
       "  </thead>\n",
       "  <tbody>\n",
       "    <tr>\n",
       "      <th>0</th>\n",
       "      <td>4184.0</td>\n",
       "      <td>3812_3_3</td>\n",
       "      <td>1</td>\n",
       "      <td>1</td>\n",
       "      <td>1</td>\n",
       "      <td>0</td>\n",
       "      <td>0</td>\n",
       "      <td>0</td>\n",
       "      <td>1</td>\n",
       "      <td>0</td>\n",
       "      <td>['or this what kind of reputation are these pictures giving me ?']</td>\n",
       "      <td>[\"tha day prog ahranean the recovery ou thats is each at third kin w call cla tag hour tidy en - ete . near the day ' s high dusuala trerage\", 'ats that ha nd metal', 'candidate homer bright candi right a cone and friends llai']</td>\n",
       "      <td>['or this what kind of reputation are these pictures giving me ?', \"tha day prog ahranean the recovery ou thats is each at third kin w call cla tag hour tidy en - ete . near the day ' s high dusuala trerage\", 'ats that ha nd metal', 'candidate homer bright candi right a cone and friends llai']</td>\n",
       "      <td>['or this what kind of reputation are these pictures giving me?', 'the day prog ahranean the recovery and that is each at third kin w call cla tag hour tidy in late   . near the day is high monthly threshold   .', 'at that hand metal   .', 'candidate homer , bright candi , right , a cone and fri...</td>\n",
       "      <td>['Angry', 'Disgust', 'Fear', 'Neutral']</td>\n",
       "    </tr>\n",
       "    <tr>\n",
       "      <th>1</th>\n",
       "      <td>132.0</td>\n",
       "      <td>1088_28_3</td>\n",
       "      <td>1</td>\n",
       "      <td>0</td>\n",
       "      <td>1</td>\n",
       "      <td>0</td>\n",
       "      <td>0</td>\n",
       "      <td>0</td>\n",
       "      <td>1</td>\n",
       "      <td>0</td>\n",
       "      <td>[\"he ' s not telling all he knows do you think he killed bugs\", \" i think he ' s trying to cover for someone elge tim , i think we ought to go to bug sy ' s bar as the black terrors \"]</td>\n",
       "      <td>[]</td>\n",
       "      <td>[\"he ' s not telling all he knows do you think he killed bugs\", \" i think he ' s trying to cover for someone elge tim , i think we ought to go to bug sy ' s bar as the black terrors \"]</td>\n",
       "      <td>['he is not telling all he knows , do you think he killed bugs?', 'i think he is trying to cover for someone else time , i think we ought to go to bug sy is bar as the black terrors   .']</td>\n",
       "      <td>['Angry', 'Fear', 'Neutral']</td>\n",
       "    </tr>\n",
       "    <tr>\n",
       "      <th>2</th>\n",
       "      <td>3543.0</td>\n",
       "      <td>479_14_0</td>\n",
       "      <td>1</td>\n",
       "      <td>0</td>\n",
       "      <td>0</td>\n",
       "      <td>0</td>\n",
       "      <td>0</td>\n",
       "      <td>0</td>\n",
       "      <td>1</td>\n",
       "      <td>0</td>\n",
       "      <td>[\"you big stupid why don ' t you watch where you go !\"]</td>\n",
       "      <td>[]</td>\n",
       "      <td>[\"you big stupid why don ' t you watch where you go !\"]</td>\n",
       "      <td>['you big stupid why do not you watch where you go   !']</td>\n",
       "      <td>['Angry', 'Neutral']</td>\n",
       "    </tr>\n",
       "    <tr>\n",
       "      <th>3</th>\n",
       "      <td>4692.0</td>\n",
       "      <td>859_24_1</td>\n",
       "      <td>1</td>\n",
       "      <td>1</td>\n",
       "      <td>1</td>\n",
       "      <td>0</td>\n",
       "      <td>0</td>\n",
       "      <td>1</td>\n",
       "      <td>1</td>\n",
       "      <td>0</td>\n",
       "      <td>[\"fight it out with him it ' s the gallows if he gits us !\", \" blast em , bob ! it ' s good for you and good for my business !\", 'and goo for the communit']</td>\n",
       "      <td>[]</td>\n",
       "      <td>[\"fight it out with him it ' s the gallows if he gits us !\", \" blast em , bob ! it ' s good for you and good for my business !\", 'and goo for the communit']</td>\n",
       "      <td>['fight it out with him it is the gallows if he gets us   !', \"blow'em , bob   ! it is good for you and good for my business   !\", 'and good for the community   .']</td>\n",
       "      <td>['Angry', 'Disgust', 'Fear', 'Surprise', 'Neutral']</td>\n",
       "    </tr>\n",
       "    <tr>\n",
       "      <th>4</th>\n",
       "      <td>4762.0</td>\n",
       "      <td>2260_47_8</td>\n",
       "      <td>0</td>\n",
       "      <td>0</td>\n",
       "      <td>1</td>\n",
       "      <td>1</td>\n",
       "      <td>0</td>\n",
       "      <td>0</td>\n",
       "      <td>1</td>\n",
       "      <td>0</td>\n",
       "      <td>['this way to the roof']</td>\n",
       "      <td>['the fleeing boxer and photographer']</td>\n",
       "      <td>['this way to the roof', 'the fleeing boxer and photographer']</td>\n",
       "      <td>['this way to the roof   .', 'the fleeing boxer and photographer   .']</td>\n",
       "      <td>['Fear', 'Happy', 'Neutral']</td>\n",
       "    </tr>\n",
       "  </tbody>\n",
       "</table>\n",
       "</div>"
      ],
      "text/plain": [
       "       id   image_id  Angry  Disgust  Fear  Happy  Sad  Surprise  Neutral  \\\n",
       "0  4184.0   3812_3_3      1        1     1      0    0         0        1   \n",
       "1   132.0  1088_28_3      1        0     1      0    0         0        1   \n",
       "2  3543.0   479_14_0      1        0     0      0    0         0        1   \n",
       "3  4692.0   859_24_1      1        1     1      0    0         1        1   \n",
       "4  4762.0  2260_47_8      0        0     1      1    0         0        1   \n",
       "\n",
       "   Others  \\\n",
       "0       0   \n",
       "1       0   \n",
       "2       0   \n",
       "3       0   \n",
       "4       0   \n",
       "\n",
       "                                                                                                                                                                                     dialog  \\\n",
       "0                                                                                                                        ['or this what kind of reputation are these pictures giving me ?']   \n",
       "1  [\"he ' s not telling all he knows do you think he killed bugs\", \" i think he ' s trying to cover for someone elge tim , i think we ought to go to bug sy ' s bar as the black terrors \"]   \n",
       "2                                                                                                                                   [\"you big stupid why don ' t you watch where you go !\"]   \n",
       "3                              [\"fight it out with him it ' s the gallows if he gits us !\", \" blast em , bob ! it ' s good for you and good for my business !\", 'and goo for the communit']   \n",
       "4                                                                                                                                                                  ['this way to the roof']   \n",
       "\n",
       "                                                                                                                                                                                                                              narration  \\\n",
       "0  [\"tha day prog ahranean the recovery ou thats is each at third kin w call cla tag hour tidy en - ete . near the day ' s high dusuala trerage\", 'ats that ha nd metal', 'candidate homer bright candi right a cone and friends llai']   \n",
       "1                                                                                                                                                                                                                                    []   \n",
       "2                                                                                                                                                                                                                                    []   \n",
       "3                                                                                                                                                                                                                                    []   \n",
       "4                                                                                                                                                                                                ['the fleeing boxer and photographer']   \n",
       "\n",
       "                                                                                                                                                                                                                                                                                                     text  \\\n",
       "0  ['or this what kind of reputation are these pictures giving me ?', \"tha day prog ahranean the recovery ou thats is each at third kin w call cla tag hour tidy en - ete . near the day ' s high dusuala trerage\", 'ats that ha nd metal', 'candidate homer bright candi right a cone and friends llai']   \n",
       "1                                                                                                                [\"he ' s not telling all he knows do you think he killed bugs\", \" i think he ' s trying to cover for someone elge tim , i think we ought to go to bug sy ' s bar as the black terrors \"]   \n",
       "2                                                                                                                                                                                                                                                 [\"you big stupid why don ' t you watch where you go !\"]   \n",
       "3                                                                                                                                            [\"fight it out with him it ' s the gallows if he gits us !\", \" blast em , bob ! it ' s good for you and good for my business !\", 'and goo for the communit']   \n",
       "4                                                                                                                                                                                                                                          ['this way to the roof', 'the fleeing boxer and photographer']   \n",
       "\n",
       "                                                                                                                                                                                                                                                                                                    text_clean  \\\n",
       "0  ['or this what kind of reputation are these pictures giving me?', 'the day prog ahranean the recovery and that is each at third kin w call cla tag hour tidy in late   . near the day is high monthly threshold   .', 'at that hand metal   .', 'candidate homer , bright candi , right , a cone and fri...   \n",
       "1                                                                                                                  ['he is not telling all he knows , do you think he killed bugs?', 'i think he is trying to cover for someone else time , i think we ought to go to bug sy is bar as the black terrors   .']   \n",
       "2                                                                                                                                                                                                                                                     ['you big stupid why do not you watch where you go   !']   \n",
       "3                                                                                                                                         ['fight it out with him it is the gallows if he gets us   !', \"blow'em , bob   ! it is good for you and good for my business   !\", 'and good for the community   .']   \n",
       "4                                                                                                                                                                                                                                       ['this way to the roof   .', 'the fleeing boxer and photographer   .']   \n",
       "\n",
       "                                          emotion_list  \n",
       "0              ['Angry', 'Disgust', 'Fear', 'Neutral']  \n",
       "1                         ['Angry', 'Fear', 'Neutral']  \n",
       "2                                 ['Angry', 'Neutral']  \n",
       "3  ['Angry', 'Disgust', 'Fear', 'Surprise', 'Neutral']  \n",
       "4                         ['Fear', 'Happy', 'Neutral']  "
      ]
     },
     "execution_count": 29,
     "metadata": {},
     "output_type": "execute_result"
    }
   ],
   "source": [
    "test.head()"
   ]
  },
  {
   "cell_type": "code",
   "execution_count": 30,
   "metadata": {},
   "outputs": [],
   "source": [
    "test = test[['image_id','text_clean','emotion_list']]"
   ]
  },
  {
   "cell_type": "code",
   "execution_count": 31,
   "metadata": {},
   "outputs": [],
   "source": [
    "test['emotion_list'] = test['emotion_list'].apply(lambda x: ast.literal_eval(x))"
   ]
  },
  {
   "cell_type": "code",
   "execution_count": 32,
   "metadata": {},
   "outputs": [],
   "source": [
    "xtest_tfidf = tfidf_vectorizer.transform(test['text_clean'])"
   ]
  },
  {
   "cell_type": "code",
   "execution_count": 33,
   "metadata": {},
   "outputs": [],
   "source": [
    "y_test = multilabel_binarizer.transform(test['emotion_list'])"
   ]
  },
  {
   "cell_type": "code",
   "execution_count": 34,
   "metadata": {},
   "outputs": [
    {
     "data": {
      "text/plain": [
       "0.5294426932274485"
      ]
     },
     "execution_count": 34,
     "metadata": {},
     "output_type": "execute_result"
    }
   ],
   "source": [
    "# evaluate performance\n",
    "roc_auc_score(y_test, clf.predict(xtest_tfidf), average=\"macro\")"
   ]
  },
  {
   "cell_type": "code",
   "execution_count": 35,
   "metadata": {
    "scrolled": false
   },
   "outputs": [
    {
     "name": "stdout",
     "output_type": "stream",
     "text": [
      "Movie:  ['my fiance darcy   !'] \n",
      "Predicted genre:  [('Angry', 'Fear')]\n",
      "Actual genre:  ['Fear', 'Neutral', 'Others'] \n",
      "\n",
      "Movie:  ['up boy , you can make ml   .'] \n",
      "Predicted genre:  [('Happy', 'Neutral')]\n",
      "Actual genre:  ['Angry', 'Fear', 'Neutral'] \n",
      "\n",
      "Movie:  ['look out , you crazy kid what are you trying to do?'] \n",
      "Predicted genre:  [('Angry', 'Neutral')]\n",
      "Actual genre:  ['Angry', 'Disgust', 'Neutral'] \n",
      "\n",
      "Movie:  ['what did you and the inspector find out about daddy is death?', 'i hate to tell you , dolly , but i figure that crab was responsible for his murder   .'] \n",
      "Predicted genre:  [('Angry', 'Neutral')]\n",
      "Actual genre:  ['Angry', 'Surprise', 'Neutral'] \n",
      "\n",
      "Movie:  ['there you are   .'] \n",
      "Predicted genre:  [('Angry', 'Neutral')]\n",
      "Actual genre:  ['Happy', 'Surprise'] \n",
      "\n"
     ]
    }
   ],
   "source": [
    "for i in range(5): \n",
    "  k = test.sample(1).index[0] \n",
    "  print(\"Text: \", test['text_clean'][k], \"\\nPredicted genre: \", infer_tags(test['text_clean'][k])), print(\"Actual genre: \",test['emotion_list'][k], \"\\n\")"
   ]
  },
  {
   "cell_type": "code",
   "execution_count": 36,
   "metadata": {},
   "outputs": [],
   "source": [
    "# test['pred_tfidf_baseline'] = test['text_clean'].apply(lambda x: [y for y in infer_tags(x)[0]])"
   ]
  },
  {
   "cell_type": "code",
   "execution_count": 37,
   "metadata": {},
   "outputs": [],
   "source": [
    "# test[['image_id','pred_tfidf_baseline']].to_csv('../data/public_train/predictions/tfidf_baseline_53.csv',index=None)"
   ]
  },
  {
   "cell_type": "markdown",
   "metadata": {},
   "source": [
    "## Public Test"
   ]
  },
  {
   "cell_type": "code",
   "execution_count": 61,
   "metadata": {},
   "outputs": [],
   "source": [
    "public_test = pd.read_csv('../data/public_train/public_test_dataset.csv')"
   ]
  },
  {
   "cell_type": "code",
   "execution_count": 62,
   "metadata": {},
   "outputs": [
    {
     "data": {
      "text/html": [
       "<div>\n",
       "<style scoped>\n",
       "    .dataframe tbody tr th:only-of-type {\n",
       "        vertical-align: middle;\n",
       "    }\n",
       "\n",
       "    .dataframe tbody tr th {\n",
       "        vertical-align: top;\n",
       "    }\n",
       "\n",
       "    .dataframe thead th {\n",
       "        text-align: right;\n",
       "    }\n",
       "</style>\n",
       "<table border=\"1\" class=\"dataframe\">\n",
       "  <thead>\n",
       "    <tr style=\"text-align: right;\">\n",
       "      <th></th>\n",
       "      <th>dialog</th>\n",
       "      <th>narration</th>\n",
       "      <th>image_id</th>\n",
       "      <th>text</th>\n",
       "      <th>text_clean</th>\n",
       "    </tr>\n",
       "  </thead>\n",
       "  <tbody>\n",
       "    <tr>\n",
       "      <th>0</th>\n",
       "      <td>[\"that ' s just the begin - ning ? ive even bigger jobs planned ha ha well make the police dance to the minstrel ' s tunes !\"]</td>\n",
       "      <td>[]</td>\n",
       "      <td>1000_4_6</td>\n",
       "      <td>[\"that ' s just the begin - ning ? ive even bigger jobs planned ha ha well make the police dance to the minstrel ' s tunes !\"]</td>\n",
       "      <td>['that is just the beginning live even bigger jobs planned he will make the police dance to the minstrel is tunes !']</td>\n",
       "    </tr>\n",
       "    <tr>\n",
       "      <th>1</th>\n",
       "      <td>['cant you imagine beethoven sitting alone in his study suddenly inspiration seizes him he starts writing down these immortal notes and']</td>\n",
       "      <td>['plink - a plunk ! plunk - a - pling ! an']</td>\n",
       "      <td>1000_5_1</td>\n",
       "      <td>['cant you imagine beethoven sitting alone in his study suddenly inspiration seizes him he starts writing down these immortal notes and', 'plink - a plunk ! plunk - a - pling ! an']</td>\n",
       "      <td>['ca not you imagine beethoven sitting alone in his study , suddenly inspiration seizes him , he starts writing down these immortal notes and?', 'kick a plunk ! plunk a pling !']</td>\n",
       "    </tr>\n",
       "    <tr>\n",
       "      <th>2</th>\n",
       "      <td>['it is your loveliness that jeb rivers remembered when he scorned me ! ill avenge myself on both of you !', ' s later , rala before we attack the boat , usher these guests into our dwelling !']</td>\n",
       "      <td>[]</td>\n",
       "      <td>1003_33_2</td>\n",
       "      <td>['it is your loveliness that jeb rivers remembered when he scorned me ! ill avenge myself on both of you !', ' s later , rala before we attack the boat , usher these guests into our dwelling !']</td>\n",
       "      <td>['it is your loveliness that jeff rivers remembered when he scorned me will avenge myself on both of you !', 'soon , rala before we attack the boat , usher these guests into our dwelling !']</td>\n",
       "    </tr>\n",
       "    <tr>\n",
       "      <th>3</th>\n",
       "      <td>[\"some men are approaching ! i ' ll alert the others in case there is trouble !\"]</td>\n",
       "      <td>[]</td>\n",
       "      <td>1004_29_6</td>\n",
       "      <td>[\"some men are approaching ! i ' ll alert the others in case there is trouble !\"]</td>\n",
       "      <td>['some men are approaching ! i will alert the others in case there is trouble !']</td>\n",
       "    </tr>\n",
       "    <tr>\n",
       "      <th>4</th>\n",
       "      <td>[' a toy plane itis trying to kill me ,', ' ha , ha , ha !']</td>\n",
       "      <td>[]</td>\n",
       "      <td>1009_14_1</td>\n",
       "      <td>[' a toy plane itis trying to kill me ,', ' ha , ha , ha !']</td>\n",
       "      <td>['a toy plane is trying to kill me ,', 'ha , ha , ha !']</td>\n",
       "    </tr>\n",
       "  </tbody>\n",
       "</table>\n",
       "</div>"
      ],
      "text/plain": [
       "                                                                                                                                                                                               dialog  \\\n",
       "0                                                                      [\"that ' s just the begin - ning ? ive even bigger jobs planned ha ha well make the police dance to the minstrel ' s tunes !\"]   \n",
       "1                                                           ['cant you imagine beethoven sitting alone in his study suddenly inspiration seizes him he starts writing down these immortal notes and']   \n",
       "2  ['it is your loveliness that jeb rivers remembered when he scorned me ! ill avenge myself on both of you !', ' s later , rala before we attack the boat , usher these guests into our dwelling !']   \n",
       "3                                                                                                                   [\"some men are approaching ! i ' ll alert the others in case there is trouble !\"]   \n",
       "4                                                                                                                                        [' a toy plane itis trying to kill me ,', ' ha , ha , ha !']   \n",
       "\n",
       "                                      narration   image_id  \\\n",
       "0                                            []   1000_4_6   \n",
       "1  ['plink - a plunk ! plunk - a - pling ! an']   1000_5_1   \n",
       "2                                            []  1003_33_2   \n",
       "3                                            []  1004_29_6   \n",
       "4                                            []  1009_14_1   \n",
       "\n",
       "                                                                                                                                                                                                 text  \\\n",
       "0                                                                      [\"that ' s just the begin - ning ? ive even bigger jobs planned ha ha well make the police dance to the minstrel ' s tunes !\"]   \n",
       "1               ['cant you imagine beethoven sitting alone in his study suddenly inspiration seizes him he starts writing down these immortal notes and', 'plink - a plunk ! plunk - a - pling ! an']   \n",
       "2  ['it is your loveliness that jeb rivers remembered when he scorned me ! ill avenge myself on both of you !', ' s later , rala before we attack the boat , usher these guests into our dwelling !']   \n",
       "3                                                                                                                   [\"some men are approaching ! i ' ll alert the others in case there is trouble !\"]   \n",
       "4                                                                                                                                        [' a toy plane itis trying to kill me ,', ' ha , ha , ha !']   \n",
       "\n",
       "                                                                                                                                                                                       text_clean  \n",
       "0                                                                           ['that is just the beginning live even bigger jobs planned he will make the police dance to the minstrel is tunes !']  \n",
       "1              ['ca not you imagine beethoven sitting alone in his study , suddenly inspiration seizes him , he starts writing down these immortal notes and?', 'kick a plunk ! plunk a pling !']  \n",
       "2  ['it is your loveliness that jeff rivers remembered when he scorned me will avenge myself on both of you !', 'soon , rala before we attack the boat , usher these guests into our dwelling !']  \n",
       "3                                                                                                               ['some men are approaching ! i will alert the others in case there is trouble !']  \n",
       "4                                                                                                                                        ['a toy plane is trying to kill me ,', 'ha , ha , ha !']  "
      ]
     },
     "execution_count": 62,
     "metadata": {},
     "output_type": "execute_result"
    }
   ],
   "source": [
    "public_test.head()"
   ]
  },
  {
   "cell_type": "code",
   "execution_count": 63,
   "metadata": {},
   "outputs": [],
   "source": [
    "public_test = public_test[['image_id','text_clean']]"
   ]
  },
  {
   "cell_type": "code",
   "execution_count": 64,
   "metadata": {},
   "outputs": [],
   "source": [
    "xpublic_test_tfidf = tfidf_vectorizer.transform(public_test['text_clean'])"
   ]
  },
  {
   "cell_type": "code",
   "execution_count": 65,
   "metadata": {
    "scrolled": false
   },
   "outputs": [
    {
     "name": "stdout",
     "output_type": "stream",
     "text": [
      "[[0.42098436 0.27151066 0.35814031 0.46643366 0.60576942 0.0648216\n",
      "  0.12892098 0.38787104]]\n",
      "Movie:  ['wa .'] \n",
      "Predicted genre:  [('Neutral',)]\n",
      "[[0.34086126 0.44745272 0.36409103 0.48924179 0.67496938 0.11549298\n",
      "  0.112453   0.30708983]]\n",
      "Movie:  ['instant , the yellow beam from the head is too hazy to be alive man !', 'for a fleeting moment , the yellow beam from the headlights picks out porn . . . . too hazy to be alive too sinister to be human !'] \n",
      "Predicted genre:  [('Neutral',)]\n",
      "[[0.40272374 0.50439239 0.34702163 0.21321824 0.71774648 0.05408249\n",
      "  0.18685373 0.30659624]]\n",
      "Movie:  ['the woman is dead , but he is still alive . he will not last the night though !', 'this does not look like any accident . it is about time something was done about some of these outrages everybody knows whose behind them !'] \n",
      "Predicted genre:  [('Disgust', 'Neutral')]\n",
      "[[0.34037188 0.27562746 0.31036627 0.57830876 0.67646954 0.04974989\n",
      "  0.09195854 0.23280085]]\n",
      "Movie:  ['and this wonderful little i girl they call 7amboy caught this vicious criminal by herself by the time i reached the roof she had disappeared .', 'that is what i call a real girl .', 'that night , at the home of police lieutenant charles jackson .'] \n",
      "Predicted genre:  [('Happy', 'Neutral')]\n",
      "[[0.37964499 0.49390465 0.473715   0.19453181 0.65279238 0.12965616\n",
      "  0.19426186 0.43106404]]\n",
      "Movie:  ['the worst specimen i have ever seen , i am afraid it is too late !', 'ulp huh?', 'e  well , you have .'] \n",
      "Predicted genre:  [('Neutral',)]\n"
     ]
    }
   ],
   "source": [
    "for i in range(5): \n",
    "  k = public_test.sample(1).index[0] \n",
    "  print(\"Text: \", public_test['text_clean'][k], \"\\nPredicted genre: \", infer_tags(public_test['text_clean'][k])), "
   ]
  },
  {
   "cell_type": "code",
   "execution_count": 66,
   "metadata": {},
   "outputs": [],
   "source": [
    "public_test['pred_tfidf_baseline'] = public_test['text_clean'].apply(lambda x: infer_proba(x)[0])"
   ]
  },
  {
   "cell_type": "code",
   "execution_count": 67,
   "metadata": {},
   "outputs": [],
   "source": [
    "# public_test[['image_id','pred_tfidf_baseline']].to_csv('../data/public_train/predictions/tfidf_baseline_53.csv',index=None)"
   ]
  },
  {
   "cell_type": "code",
   "execution_count": 68,
   "metadata": {},
   "outputs": [],
   "source": [
    "public_test = public_test.reset_index()"
   ]
  },
  {
   "cell_type": "code",
   "execution_count": 69,
   "metadata": {},
   "outputs": [
    {
     "data": {
      "text/html": [
       "<div>\n",
       "<style scoped>\n",
       "    .dataframe tbody tr th:only-of-type {\n",
       "        vertical-align: middle;\n",
       "    }\n",
       "\n",
       "    .dataframe tbody tr th {\n",
       "        vertical-align: top;\n",
       "    }\n",
       "\n",
       "    .dataframe thead th {\n",
       "        text-align: right;\n",
       "    }\n",
       "</style>\n",
       "<table border=\"1\" class=\"dataframe\">\n",
       "  <thead>\n",
       "    <tr style=\"text-align: right;\">\n",
       "      <th></th>\n",
       "      <th>index</th>\n",
       "      <th>image_id</th>\n",
       "      <th>text_clean</th>\n",
       "      <th>pred_tfidf_baseline</th>\n",
       "    </tr>\n",
       "  </thead>\n",
       "  <tbody>\n",
       "    <tr>\n",
       "      <th>0</th>\n",
       "      <td>0</td>\n",
       "      <td>1000_4_6</td>\n",
       "      <td>['that is just the beginning live even bigger jobs planned he will make the police dance to the minstrel is tunes !']</td>\n",
       "      <td>[0.5232076336872775, 0.4474371394569467, 0.2904472418335393, 0.18455649156692805, 0.8852078926375146, 0.06609051681404077, 0.10961309143180499, 0.3716513759761132]</td>\n",
       "    </tr>\n",
       "    <tr>\n",
       "      <th>1</th>\n",
       "      <td>1</td>\n",
       "      <td>1000_5_1</td>\n",
       "      <td>['ca not you imagine beethoven sitting alone in his study , suddenly inspiration seizes him , he starts writing down these immortal notes and?', 'kick a plunk ! plunk a pling !']</td>\n",
       "      <td>[0.6345605197187143, 0.5195463186661569, 0.25701380021076176, 0.14812539366201463, 0.5940830906645916, 0.02235699051506261, 0.16488749867642832, 0.4525090295311405]</td>\n",
       "    </tr>\n",
       "    <tr>\n",
       "      <th>2</th>\n",
       "      <td>2</td>\n",
       "      <td>1003_33_2</td>\n",
       "      <td>['it is your loveliness that jeff rivers remembered when he scorned me will avenge myself on both of you !', 'soon , rala before we attack the boat , usher these guests into our dwelling !']</td>\n",
       "      <td>[0.4254331093660046, 0.4379727398727669, 0.30728339352928824, 0.365317697694982, 0.7877545588301713, 0.03496147345936354, 0.25398244318243707, 0.2471115605340089]</td>\n",
       "    </tr>\n",
       "    <tr>\n",
       "      <th>3</th>\n",
       "      <td>3</td>\n",
       "      <td>1004_29_6</td>\n",
       "      <td>['some men are approaching ! i will alert the others in case there is trouble !']</td>\n",
       "      <td>[0.2697184460773953, 0.5452218405575705, 0.48681389560367994, 0.28229213216761967, 0.7687134415009755, 0.06370432553031, 0.09239908659543682, 0.4774605566138894]</td>\n",
       "    </tr>\n",
       "    <tr>\n",
       "      <th>4</th>\n",
       "      <td>4</td>\n",
       "      <td>1009_14_1</td>\n",
       "      <td>['a toy plane is trying to kill me ,', 'ha , ha , ha !']</td>\n",
       "      <td>[0.2918660186544512, 0.22272032842123557, 0.2340670574325, 0.39671882584786117, 0.6519121926586676, 0.07289850996645719, 0.18517653515119567, 0.1915912360199454]</td>\n",
       "    </tr>\n",
       "    <tr>\n",
       "      <th>...</th>\n",
       "      <td>...</td>\n",
       "      <td>...</td>\n",
       "      <td>...</td>\n",
       "      <td>...</td>\n",
       "    </tr>\n",
       "    <tr>\n",
       "      <th>2041</th>\n",
       "      <td>2041</td>\n",
       "      <td>632_53_5</td>\n",
       "      <td>['not so fast , punk .', 'rusmy overtakes the train .']</td>\n",
       "      <td>[0.4857993665854372, 0.24918763566392216, 0.4077596155521674, 0.4635943495218833, 0.7429812803273919, 0.05582298216477069, 0.12122381137114772, 0.4289816878151035]</td>\n",
       "    </tr>\n",
       "    <tr>\n",
       "      <th>2042</th>\n",
       "      <td>2042</td>\n",
       "      <td>2302_42_3</td>\n",
       "      <td>['the car to be the end of the gate .what back the i wonder seems walk?', 'do not know nor care let is go back .']</td>\n",
       "      <td>[0.3127814635773808, 0.24604888747247236, 0.3113831125288106, 0.4581654450432956, 0.846120144070497, 0.08644376641094129, 0.17325954352173176, 0.34093460649199236]</td>\n",
       "    </tr>\n",
       "    <tr>\n",
       "      <th>2043</th>\n",
       "      <td>2043</td>\n",
       "      <td>2958_21_7</td>\n",
       "      <td>['another strip like this should do it !']</td>\n",
       "      <td>[0.5352387898710971, 0.42908823335208446, 0.2911753466404548, 0.3658892691055771, 0.5807774522179758, 0.03720235526197181, 0.22155271267493398, 0.46471931415472895]</td>\n",
       "    </tr>\n",
       "    <tr>\n",
       "      <th>2044</th>\n",
       "      <td>2044</td>\n",
       "      <td>3182_52_2</td>\n",
       "      <td>['you shall be queen of lone canyon beautiful one !', 'order the stone man .']</td>\n",
       "      <td>[0.4798655686304346, 0.5436945022783335, 0.41724219325904055, 0.4626584722990834, 0.3928723911652177, 0.04774002548570261, 0.08788389702042247, 0.23760741678561725]</td>\n",
       "    </tr>\n",
       "    <tr>\n",
       "      <th>2045</th>\n",
       "      <td>2045</td>\n",
       "      <td>3099_22_3</td>\n",
       "      <td>['should not he?', 'i gonna the yze kidnap the b president tonight .']</td>\n",
       "      <td>[0.487410997078905, 0.36075018895376304, 0.44405858362544237, 0.4202803661906921, 0.5259940000689992, 0.05952238866897214, 0.13877166946816458, 0.5434863300435882]</td>\n",
       "    </tr>\n",
       "  </tbody>\n",
       "</table>\n",
       "<p>2046 rows × 4 columns</p>\n",
       "</div>"
      ],
      "text/plain": [
       "      index   image_id  \\\n",
       "0         0   1000_4_6   \n",
       "1         1   1000_5_1   \n",
       "2         2  1003_33_2   \n",
       "3         3  1004_29_6   \n",
       "4         4  1009_14_1   \n",
       "...     ...        ...   \n",
       "2041   2041   632_53_5   \n",
       "2042   2042  2302_42_3   \n",
       "2043   2043  2958_21_7   \n",
       "2044   2044  3182_52_2   \n",
       "2045   2045  3099_22_3   \n",
       "\n",
       "                                                                                                                                                                                          text_clean  \\\n",
       "0                                                                              ['that is just the beginning live even bigger jobs planned he will make the police dance to the minstrel is tunes !']   \n",
       "1                 ['ca not you imagine beethoven sitting alone in his study , suddenly inspiration seizes him , he starts writing down these immortal notes and?', 'kick a plunk ! plunk a pling !']   \n",
       "2     ['it is your loveliness that jeff rivers remembered when he scorned me will avenge myself on both of you !', 'soon , rala before we attack the boat , usher these guests into our dwelling !']   \n",
       "3                                                                                                                  ['some men are approaching ! i will alert the others in case there is trouble !']   \n",
       "4                                                                                                                                           ['a toy plane is trying to kill me ,', 'ha , ha , ha !']   \n",
       "...                                                                                                                                                                                              ...   \n",
       "2041                                                                                                                                         ['not so fast , punk .', 'rusmy overtakes the train .']   \n",
       "2042                                                                              ['the car to be the end of the gate .what back the i wonder seems walk?', 'do not know nor care let is go back .']   \n",
       "2043                                                                                                                                                      ['another strip like this should do it !']   \n",
       "2044                                                                                                                  ['you shall be queen of lone canyon beautiful one !', 'order the stone man .']   \n",
       "2045                                                                                                                          ['should not he?', 'i gonna the yze kidnap the b president tonight .']   \n",
       "\n",
       "                                                                                                                                                       pred_tfidf_baseline  \n",
       "0      [0.5232076336872775, 0.4474371394569467, 0.2904472418335393, 0.18455649156692805, 0.8852078926375146, 0.06609051681404077, 0.10961309143180499, 0.3716513759761132]  \n",
       "1     [0.6345605197187143, 0.5195463186661569, 0.25701380021076176, 0.14812539366201463, 0.5940830906645916, 0.02235699051506261, 0.16488749867642832, 0.4525090295311405]  \n",
       "2       [0.4254331093660046, 0.4379727398727669, 0.30728339352928824, 0.365317697694982, 0.7877545588301713, 0.03496147345936354, 0.25398244318243707, 0.2471115605340089]  \n",
       "3        [0.2697184460773953, 0.5452218405575705, 0.48681389560367994, 0.28229213216761967, 0.7687134415009755, 0.06370432553031, 0.09239908659543682, 0.4774605566138894]  \n",
       "4        [0.2918660186544512, 0.22272032842123557, 0.2340670574325, 0.39671882584786117, 0.6519121926586676, 0.07289850996645719, 0.18517653515119567, 0.1915912360199454]  \n",
       "...                                                                                                                                                                    ...  \n",
       "2041   [0.4857993665854372, 0.24918763566392216, 0.4077596155521674, 0.4635943495218833, 0.7429812803273919, 0.05582298216477069, 0.12122381137114772, 0.4289816878151035]  \n",
       "2042   [0.3127814635773808, 0.24604888747247236, 0.3113831125288106, 0.4581654450432956, 0.846120144070497, 0.08644376641094129, 0.17325954352173176, 0.34093460649199236]  \n",
       "2043  [0.5352387898710971, 0.42908823335208446, 0.2911753466404548, 0.3658892691055771, 0.5807774522179758, 0.03720235526197181, 0.22155271267493398, 0.46471931415472895]  \n",
       "2044  [0.4798655686304346, 0.5436945022783335, 0.41724219325904055, 0.4626584722990834, 0.3928723911652177, 0.04774002548570261, 0.08788389702042247, 0.23760741678561725]  \n",
       "2045   [0.487410997078905, 0.36075018895376304, 0.44405858362544237, 0.4202803661906921, 0.5259940000689992, 0.05952238866897214, 0.13877166946816458, 0.5434863300435882]  \n",
       "\n",
       "[2046 rows x 4 columns]"
      ]
     },
     "execution_count": 69,
     "metadata": {},
     "output_type": "execute_result"
    }
   ],
   "source": [
    "public_test"
   ]
  },
  {
   "cell_type": "code",
   "execution_count": 70,
   "metadata": {},
   "outputs": [],
   "source": [
    "emotion_list = ['Angry', 'Disgust', 'Fear', 'Happy', 'Neutral', 'Others', 'Sad',\n",
    "       'Surprise']"
   ]
  },
  {
   "cell_type": "code",
   "execution_count": 80,
   "metadata": {},
   "outputs": [],
   "source": [
    "emotion_pred = pd.DataFrame(list(public_test.pred_tfidf_baseline.apply(lambda x: {emotion:y for emotion,y in zip(emotion_list,x)}).values))"
   ]
  },
  {
   "cell_type": "code",
   "execution_count": 83,
   "metadata": {},
   "outputs": [],
   "source": [
    "emotion_pred = emotion_pred[['Angry','Disgust','Fear','Happy','Sad','Surprise','Neutral','Others']]"
   ]
  },
  {
   "cell_type": "code",
   "execution_count": 84,
   "metadata": {},
   "outputs": [
    {
     "name": "stderr",
     "output_type": "stream",
     "text": [
      "/home/shwetkm/.local/lib/python3.6/site-packages/ipykernel_launcher.py:1: SettingWithCopyWarning: \n",
      "A value is trying to be set on a copy of a slice from a DataFrame.\n",
      "Try using .loc[row_indexer,col_indexer] = value instead\n",
      "\n",
      "See the caveats in the documentation: https://pandas.pydata.org/pandas-docs/stable/user_guide/indexing.html#returning-a-view-versus-a-copy\n",
      "  \"\"\"Entry point for launching an IPython kernel.\n"
     ]
    }
   ],
   "source": [
    "emotion_pred['id'] = public_test['index']"
   ]
  },
  {
   "cell_type": "code",
   "execution_count": 85,
   "metadata": {},
   "outputs": [
    {
     "name": "stderr",
     "output_type": "stream",
     "text": [
      "/home/shwetkm/.local/lib/python3.6/site-packages/ipykernel_launcher.py:1: SettingWithCopyWarning: \n",
      "A value is trying to be set on a copy of a slice from a DataFrame.\n",
      "Try using .loc[row_indexer,col_indexer] = value instead\n",
      "\n",
      "See the caveats in the documentation: https://pandas.pydata.org/pandas-docs/stable/user_guide/indexing.html#returning-a-view-versus-a-copy\n",
      "  \"\"\"Entry point for launching an IPython kernel.\n"
     ]
    }
   ],
   "source": [
    "emotion_pred['image_id'] = public_test['image_id']"
   ]
  },
  {
   "cell_type": "code",
   "execution_count": 94,
   "metadata": {},
   "outputs": [],
   "source": [
    "emotion_pred = emotion_pred[['id', 'image_id','Angry', 'Disgust', 'Fear', 'Happy', 'Sad', 'Surprise', 'Neutral',\n",
    "       'Others']]"
   ]
  },
  {
   "cell_type": "code",
   "execution_count": 96,
   "metadata": {},
   "outputs": [
    {
     "data": {
      "text/plain": [
       "2046"
      ]
     },
     "execution_count": 96,
     "metadata": {},
     "output_type": "execute_result"
    }
   ],
   "source": [
    "len(emotion_pred)"
   ]
  },
  {
   "cell_type": "code",
   "execution_count": 95,
   "metadata": {},
   "outputs": [],
   "source": [
    "emotion_pred.to_csv('../data/public_train/submissions/tfidf_baseline_submission.csv',index=None,header=None)"
   ]
  }
 ],
 "metadata": {
  "kernelspec": {
   "display_name": "Python (fastai)",
   "language": "python",
   "name": "fastai"
  },
  "language_info": {
   "codemirror_mode": {
    "name": "ipython",
    "version": 3
   },
   "file_extension": ".py",
   "mimetype": "text/x-python",
   "name": "python",
   "nbconvert_exporter": "python",
   "pygments_lexer": "ipython3",
   "version": "3.6.12"
  }
 },
 "nbformat": 4,
 "nbformat_minor": 4
}
