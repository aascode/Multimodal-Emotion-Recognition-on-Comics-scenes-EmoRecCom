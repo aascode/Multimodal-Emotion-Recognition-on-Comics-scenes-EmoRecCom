{
 "cells": [
  {
   "cell_type": "code",
   "execution_count": 1,
   "metadata": {},
   "outputs": [],
   "source": [
    "import pandas as pd\n",
    "import numpy as np\n",
    "import pickle\n",
    "from pandas_profiling import ProfileReport"
   ]
  },
  {
   "cell_type": "code",
   "execution_count": null,
   "metadata": {},
   "outputs": [],
   "source": [
    "import json"
   ]
  },
  {
   "cell_type": "code",
   "execution_count": null,
   "metadata": {},
   "outputs": [],
   "source": [
    "# transcription_df = pd.read_json('../data/public_train/train_transcriptions.json')\n",
    "with open('../data/public_train/test_transcriptions.json') as file:\n",
    "    train_transcripts = json.load(file)"
   ]
  },
  {
   "cell_type": "code",
   "execution_count": null,
   "metadata": {},
   "outputs": [],
   "source": [
    "len(train_transcripts)"
   ]
  },
  {
   "cell_type": "code",
   "execution_count": null,
   "metadata": {},
   "outputs": [],
   "source": [
    "transcription_df = pd.DataFrame(train_transcripts)"
   ]
  },
  {
   "cell_type": "code",
   "execution_count": null,
   "metadata": {},
   "outputs": [],
   "source": [
    "transcription_df.head()"
   ]
  },
  {
   "cell_type": "code",
   "execution_count": null,
   "metadata": {},
   "outputs": [],
   "source": [
    "transcription_df.img_id.values"
   ]
  },
  {
   "cell_type": "code",
   "execution_count": null,
   "metadata": {},
   "outputs": [],
   "source": [
    "transcription_df.narration.astype(str).value_counts()"
   ]
  },
  {
   "cell_type": "code",
   "execution_count": null,
   "metadata": {
    "scrolled": false
   },
   "outputs": [],
   "source": [
    "transcription_df.dialog.astype(str).value_counts()"
   ]
  },
  {
   "cell_type": "code",
   "execution_count": null,
   "metadata": {},
   "outputs": [],
   "source": [
    "transcription_df['text'] = transcription_df.apply(lambda x: x['dialog']+x['narration'],axis=1)"
   ]
  },
  {
   "cell_type": "code",
   "execution_count": null,
   "metadata": {},
   "outputs": [],
   "source": [
    "transcription_df['text'].values"
   ]
  },
  {
   "cell_type": "code",
   "execution_count": null,
   "metadata": {},
   "outputs": [],
   "source": [
    "len(transcription_df)"
   ]
  },
  {
   "cell_type": "code",
   "execution_count": null,
   "metadata": {},
   "outputs": [],
   "source": [
    "transcription_df['text'] = transcription_df['text'].apply(lambda x: [y for y in x if type(y) == str])"
   ]
  },
  {
   "cell_type": "code",
   "execution_count": null,
   "metadata": {},
   "outputs": [],
   "source": [
    "len(transcription_df)"
   ]
  },
  {
   "cell_type": "code",
   "execution_count": null,
   "metadata": {},
   "outputs": [],
   "source": [
    "import re\n",
    "\n",
    "def decontracted(phrase):\n",
    "    # specific\n",
    "    phrase = re.sub(r\"won\\'t\", \"will not\", phrase)\n",
    "    phrase = re.sub(r\"can\\'t\", \"can not\", phrase)\n",
    "\n",
    "    # general\n",
    "    phrase = re.sub(r\"n\\'t\", \" not\", phrase)\n",
    "    phrase = re.sub(r\"\\'re\", \" are\", phrase)\n",
    "    phrase = re.sub(r\"\\'s\", \" is\", phrase)\n",
    "    phrase = re.sub(r\"\\'d\", \" would\", phrase)\n",
    "    phrase = re.sub(r\"\\'ll\", \" will\", phrase)\n",
    "    phrase = re.sub(r\"\\'t\", \" not\", phrase)\n",
    "    phrase = re.sub(r\"\\'ve\", \" have\", phrase)\n",
    "    phrase = re.sub(r\"\\'m\", \" am\", phrase)\n",
    "    phrase = re.sub(r\"!\", \" !\", phrase)\n",
    "    phrase = re.sub(r\"\\.\", \" .\", phrase)\n",
    "    phrase = re.sub(r\",\", \" ,\", phrase)\n",
    "    return phrase"
   ]
  },
  {
   "cell_type": "code",
   "execution_count": null,
   "metadata": {},
   "outputs": [],
   "source": [
    "from fastpunct import FastPunct"
   ]
  },
  {
   "cell_type": "code",
   "execution_count": null,
   "metadata": {},
   "outputs": [],
   "source": [
    "fastpunct = FastPunct()"
   ]
  },
  {
   "cell_type": "code",
   "execution_count": null,
   "metadata": {},
   "outputs": [],
   "source": [
    "# transcription_df['text'][:10].apply(lambda x: fastpunct.punct(x,correct=True)).values"
   ]
  },
  {
   "cell_type": "code",
   "execution_count": null,
   "metadata": {},
   "outputs": [],
   "source": [
    "# transcription_df = transcription_df[transcription_df['text'].astype(str)!='[]']"
   ]
  },
  {
   "cell_type": "code",
   "execution_count": null,
   "metadata": {},
   "outputs": [],
   "source": [
    "transcription_df['text_clean'] = transcription_df['text'].apply(lambda x: fastpunct.punct(x,correct=True) if str(x) != '[]' else '[]')"
   ]
  },
  {
   "cell_type": "code",
   "execution_count": null,
   "metadata": {},
   "outputs": [],
   "source": [
    "transcription_df[['text','text_clean']]"
   ]
  },
  {
   "cell_type": "code",
   "execution_count": null,
   "metadata": {},
   "outputs": [],
   "source": [
    "transcription_df['text_clean'] = transcription_df['text_clean'].apply(lambda x: [decontracted(y).lower() for y in x])"
   ]
  },
  {
   "cell_type": "code",
   "execution_count": null,
   "metadata": {},
   "outputs": [],
   "source": [
    "len(transcription_df)"
   ]
  },
  {
   "cell_type": "code",
   "execution_count": null,
   "metadata": {},
   "outputs": [],
   "source": [
    "transcription_df.columns = ['dialog', 'narration', 'image_id', 'text','text_clean']"
   ]
  },
  {
   "cell_type": "code",
   "execution_count": null,
   "metadata": {},
   "outputs": [],
   "source": [
    "transcription_df.head()"
   ]
  },
  {
   "cell_type": "code",
   "execution_count": null,
   "metadata": {},
   "outputs": [],
   "source": [
    "len(transcription_df)"
   ]
  },
  {
   "cell_type": "code",
   "execution_count": null,
   "metadata": {},
   "outputs": [],
   "source": [
    "# df = pd.merge(label_df,transcription_df,on='image_id',how='inner')"
   ]
  },
  {
   "cell_type": "code",
   "execution_count": null,
   "metadata": {},
   "outputs": [],
   "source": [
    "# df.head()"
   ]
  },
  {
   "cell_type": "code",
   "execution_count": null,
   "metadata": {},
   "outputs": [],
   "source": [
    "emotions = ['Angry','Disgust','Fear','Happy','Sad','Surprise','Neutral','Others']"
   ]
  },
  {
   "cell_type": "code",
   "execution_count": null,
   "metadata": {},
   "outputs": [],
   "source": [
    "# df['emotion_list'] = df.apply(lambda x: [emo for emo in emotions if x[emo] == '1'],axis=1)"
   ]
  },
  {
   "cell_type": "code",
   "execution_count": null,
   "metadata": {},
   "outputs": [],
   "source": [
    "transcription_df.to_csv('../data/public_train/public_test_dataset.csv',index=None)"
   ]
  },
  {
   "cell_type": "code",
   "execution_count": 2,
   "metadata": {},
   "outputs": [],
   "source": [
    "transcription_df = pd.read_csv('../data/public_train/public_test_dataset.csv')"
   ]
  },
  {
   "cell_type": "code",
   "execution_count": 3,
   "metadata": {},
   "outputs": [],
   "source": [
    "import cv2\n",
    "\n",
    "def resize_img(path):\n",
    "  try:\n",
    "    img = cv2.imread(path)\n",
    "    img = cv2.resize(img, (224, 224))\n",
    "    img = img.astype(np.float32)/255\n",
    "    return img\n",
    "  except Exception as e:\n",
    "    print(str(e))\n",
    "    return None"
   ]
  },
  {
   "cell_type": "code",
   "execution_count": 4,
   "metadata": {},
   "outputs": [],
   "source": [
    "base_path = '../data/public_train/test/'"
   ]
  },
  {
   "cell_type": "code",
   "execution_count": 5,
   "metadata": {},
   "outputs": [
    {
     "name": "stdout",
     "output_type": "stream",
     "text": [
      "Processing i: 0 ../data/public_train/test/1000_4_6.jpg\n",
      "Processing i: 100 ../data/public_train/test/117_5_2.jpg\n",
      "Processing i: 200 ../data/public_train/test/1327_37_4.jpg\n",
      "Processing i: 300 ../data/public_train/test/1464_20_4.jpg\n",
      "Processing i: 400 ../data/public_train/test/1661_16_4.jpg\n",
      "Processing i: 500 ../data/public_train/test/1846_14_1.jpg\n",
      "Processing i: 600 ../data/public_train/test/2032_16_2.jpg\n",
      "Processing i: 700 ../data/public_train/test/2186_33_0.jpg\n",
      "Processing i: 800 ../data/public_train/test/288_11_1.jpg\n",
      "Processing i: 900 ../data/public_train/test/3833_14_5.jpg\n",
      "Processing i: 1000 ../data/public_train/test/3777_5_3.jpg\n",
      "Processing i: 1100 ../data/public_train/test/704_8_2.jpg\n",
      "Processing i: 1200 ../data/public_train/test/2693_38_5.jpg\n",
      "Processing i: 1300 ../data/public_train/test/888_45_3.jpg\n",
      "Processing i: 1400 ../data/public_train/test/3080_4_1.jpg\n",
      "Processing i: 1500 ../data/public_train/test/2403_47_7.jpg\n",
      "Processing i: 1600 ../data/public_train/test/3493_8_5.jpg\n",
      "Processing i: 1700 ../data/public_train/test/972_42_5.jpg\n",
      "Processing i: 1800 ../data/public_train/test/3265_20_7.jpg\n",
      "Processing i: 1900 ../data/public_train/test/759_8_13.jpg\n",
      "Processing i: 2000 ../data/public_train/test/340_10_0.jpg\n"
     ]
    }
   ],
   "source": [
    "test_imgs = []\n",
    "i = 0\n",
    "for index, row in transcription_df.iterrows():\n",
    "  if i%100 == 0:\n",
    "    print(\"Processing i:\", i, base_path+str(row['image_id'])+'.jpg')\n",
    "  img = resize_img(base_path+str(row['image_id'])+'.jpg')\n",
    "  if img is not None:\n",
    "    test_imgs.append(img)\n",
    "  else:\n",
    "#     test = test.drop(index)\n",
    "    print(\"Dropping row:\", index, \"Length:\", len(test))\n",
    "  i += 1"
   ]
  },
  {
   "cell_type": "code",
   "execution_count": 6,
   "metadata": {},
   "outputs": [],
   "source": [
    "assert len(transcription_df) == len(test_imgs)"
   ]
  },
  {
   "cell_type": "code",
   "execution_count": 7,
   "metadata": {},
   "outputs": [
    {
     "data": {
      "text/plain": [
       "(2046, 224, 224, 3)"
      ]
     },
     "execution_count": 7,
     "metadata": {},
     "output_type": "execute_result"
    }
   ],
   "source": [
    "test_np_imgs = np.array(test_imgs)\n",
    "test_np_imgs.shape"
   ]
  },
  {
   "cell_type": "code",
   "execution_count": 8,
   "metadata": {},
   "outputs": [],
   "source": [
    "with open('../data/public_train/public_test_np_img_norm','wb') as f: pickle.dump(test_np_imgs, f)"
   ]
  }
 ],
 "metadata": {
  "kernelspec": {
   "display_name": "ml",
   "language": "python",
   "name": "ml"
  },
  "language_info": {
   "codemirror_mode": {
    "name": "ipython",
    "version": 3
   },
   "file_extension": ".py",
   "mimetype": "text/x-python",
   "name": "python",
   "nbconvert_exporter": "python",
   "pygments_lexer": "ipython3",
   "version": "3.6.9"
  }
 },
 "nbformat": 4,
 "nbformat_minor": 4
}
